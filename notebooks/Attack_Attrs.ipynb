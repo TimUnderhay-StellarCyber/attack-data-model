{
  "nbformat": 4,
  "nbformat_minor": 0,
  "metadata": {
    "colab": {
      "provenance": [],
      "collapsed_sections": [
        "EXF5HnNidjsC"
      ],
      "toc_visible": true
    },
    "kernelspec": {
      "name": "python3",
      "display_name": "Python 3"
    },
    "language_info": {
      "name": "python"
    }
  },
  "cells": [
    {
      "cell_type": "code",
      "source": [
        "# attrs: modeling, parsing + validation (same format)\n",
        "# JSON (raw) --> Python(attrs) --> JSON\n",
        "# serializasiton/deserialization\n",
        "# cattrs: converters"
      ],
      "metadata": {
        "id": "0P_3gz2lu_uG"
      },
      "execution_count": null,
      "outputs": []
    },
    {
      "cell_type": "code",
      "execution_count": null,
      "metadata": {
        "colab": {
          "base_uri": "https://localhost:8080/"
        },
        "id": "wqym21hvipWM",
        "outputId": "4927746b-243f-4461-fa14-9479ba162e62"
      },
      "outputs": [
        {
          "output_type": "stream",
          "name": "stdout",
          "text": [
            "Requirement already satisfied: cattrs in /usr/local/lib/python3.10/dist-packages (23.2.3)\n",
            "Requirement already satisfied: attrs>=23.1.0 in /usr/local/lib/python3.10/dist-packages (from cattrs) (23.2.0)\n",
            "Requirement already satisfied: exceptiongroup>=1.1.1 in /usr/local/lib/python3.10/dist-packages (from cattrs) (1.2.1)\n",
            "Requirement already satisfied: typing-extensions!=4.6.3,>=4.1.0 in /usr/local/lib/python3.10/dist-packages (from cattrs) (4.12.1)\n"
          ]
        }
      ],
      "source": [
        "!pip install cattrs"
      ]
    },
    {
      "cell_type": "code",
      "source": [
        "from attrs import field, define\n",
        "\n",
        "import attrs\n",
        "import cattrs\n",
        "import uuid\n",
        "import re\n",
        "import json\n",
        "\n",
        "from abc import ABC, abstractmethod"
      ],
      "metadata": {
        "id": "aDtwxqJvisXu"
      },
      "execution_count": null,
      "outputs": []
    },
    {
      "cell_type": "markdown",
      "source": [
        "### attrs notes\n",
        "\n",
        "`@attr.s(auto_attribs=True)` versus `@define`:\n",
        "\n",
        "-  `@attr.s` is a decorator used to define a class with attributes specified within the class body.\n",
        "\n",
        "- `auto_attribs=True`: This argument allows the use of type annotations to define attributes automatically. Without auto_attribs=True, you would need to use attr.ib() to define attributes.\n",
        "\n",
        "- `@define` is newer and more explicit way introduced in attrs version 21.3.0 to define classes, meant to be more intuitive and clear. It also uses type annotations to define attributes, similar to `@attr.s(auto_attribs=True)`. It is seen as a more modern and straightforward way to define attrs classes.\n",
        "\n",
        "\n",
        "\n",
        "If you define a class with a `attrs.field()` that lacks a type annotation, attrs will ignore other fields that have a type annotation, but are not defined using `attrs.field()`."
      ],
      "metadata": {
        "id": "FFcWbGmI1MPm"
      }
    },
    {
      "cell_type": "markdown",
      "source": [
        "# Identifier Definition"
      ],
      "metadata": {
        "id": "7MiltYkXycY6"
      }
    },
    {
      "cell_type": "markdown",
      "source": [
        "### Identifier Class Proto 1\n",
        "\n",
        "This is a naiive approach.\n",
        "\n",
        "* reserved_names is a class variable.\n",
        "* No dedicated getters or setters.\n",
        "* All validation is performed in post init"
      ],
      "metadata": {
        "id": "EXF5HnNidjsC"
      }
    },
    {
      "cell_type": "code",
      "source": [
        "@define\n",
        "class StixIdentifier:\n",
        "    id: str = field()\n",
        "    prefix: str = field(init=False)\n",
        "    uuid: str = field(init=False)\n",
        "\n",
        "    reserved_names = {\n",
        "        \"attack-pattern\",\n",
        "        \"campaign\",\n",
        "        \"course-of-action\",\n",
        "        \"identity\",\n",
        "        \"intrusion-set\",\n",
        "        \"malware\",\n",
        "        \"marking-definition\",\n",
        "        \"note\",\n",
        "        \"relationship\",\n",
        "        \"tool\",\n",
        "        \"x-mitre-asset\",\n",
        "        \"x-mitre-collection\",\n",
        "        \"x-mitre-data-source\",\n",
        "        \"x-mitre-data-component\",\n",
        "        \"x-mitre-matrix\",\n",
        "        \"x-mitre-tactic\",\n",
        "    }\n",
        "\n",
        "    def __attrs_post_init__(self):\n",
        "        if \"--\" in self.id:\n",
        "            self.prefix, self.uuid = self.id.split(\"--\", 1)\n",
        "        else:\n",
        "            raise ValueError(\"Invalid id format. Expected format: ${prefix}--${uuid}\")\n",
        "\n",
        "        if self.prefix not in self.reserved_names:\n",
        "            raise ValueError(\n",
        "                f\"Invalid prefix: {self.prefix}. Must be one of {self.reserved_names}\"\n",
        "            )\n",
        "\n",
        "        try:\n",
        "            uuid_obj = uuid.UUID(self.uuid, version=4)\n",
        "        except ValueError:\n",
        "            raise ValueError(\"Invalid UUID\")"
      ],
      "metadata": {
        "id": "9HPRSDwcix7-"
      },
      "execution_count": null,
      "outputs": []
    },
    {
      "cell_type": "code",
      "source": [
        "# Example usage\n",
        "try:\n",
        "    random_uuid_string = str(uuid.uuid4())\n",
        "    identifier = StixIdentifier(id=f\"attack-pattern--{random_uuid_string}\")\n",
        "except ValueError as e:\n",
        "    print(e)"
      ],
      "metadata": {
        "id": "5YNBEOwVmFHl"
      },
      "execution_count": null,
      "outputs": []
    },
    {
      "cell_type": "markdown",
      "source": [
        "The `StixIdentifier` will throw an exception if an ATT&CK ID string is not passed to the constructor:"
      ],
      "metadata": {
        "id": "-WmnwBPdkR4V"
      }
    },
    {
      "cell_type": "code",
      "source": [
        "try:\n",
        "  pass\n",
        "  # Throws an error\n",
        "  # id1 = StixIdentifier()\n",
        "  # >>> TypeError: StixIdentifier.__init__() missing 1 required positional argument: 'id'\n",
        "except ValueError as e:\n",
        "  print(e)"
      ],
      "metadata": {
        "id": "dUqeVDGbizgr"
      },
      "execution_count": null,
      "outputs": []
    },
    {
      "cell_type": "code",
      "source": [
        "id1 = StixIdentifier(\"attack-pattern--00000000-0000-0000-0000-000000000000\")\n",
        "print(id1.uuid, type(id1.uuid))\n",
        "print(id1.prefix, type(id1.prefix))"
      ],
      "metadata": {
        "colab": {
          "base_uri": "https://localhost:8080/"
        },
        "id": "GTILsZbqjWoF",
        "outputId": "ca6e5b64-d68d-4541-fb62-5d93210d4758"
      },
      "execution_count": null,
      "outputs": [
        {
          "output_type": "stream",
          "name": "stdout",
          "text": [
            "00000000-0000-0000-0000-000000000000 <class 'str'>\n",
            "attack-pattern <class 'str'>\n"
          ]
        }
      ]
    },
    {
      "cell_type": "markdown",
      "source": [
        "Let's validate that the `StixIdentifier` blocks the user from passing unsupported object types like `foobar`:"
      ],
      "metadata": {
        "id": "OYDyoKV-jvBy"
      }
    },
    {
      "cell_type": "code",
      "source": [
        "try:\n",
        "  badPrefix = StixIdentifier(\"foobar--00000000-0000-4000-8000-000000000000\")\n",
        "except ValueError as e:\n",
        "  print(e)"
      ],
      "metadata": {
        "colab": {
          "base_uri": "https://localhost:8080/"
        },
        "id": "UYaYNmX7ji0W",
        "outputId": "8fb5e200-bf22-4334-f0ab-060cf3e7577f"
      },
      "execution_count": null,
      "outputs": [
        {
          "output_type": "stream",
          "name": "stdout",
          "text": [
            "Invalid prefix: foobar. Must be one of {'x-mitre-data-component', 'marking-definition', 'note', 'tool', 'relationship', 'intrusion-set', 'campaign', 'x-mitre-collection', 'x-mitre-matrix', 'identity', 'x-mitre-tactic', 'x-mitre-data-source', 'attack-pattern', 'course-of-action', 'malware', 'x-mitre-asset'}\n"
          ]
        }
      ]
    },
    {
      "cell_type": "code",
      "source": [
        "try:\n",
        "  badUuid = StixIdentifier(\"attack-pattern--00000000-0000-0000-0000-0\") # incorrect uuid format\n",
        "except ValueError as e:\n",
        "  print(e)"
      ],
      "metadata": {
        "colab": {
          "base_uri": "https://localhost:8080/"
        },
        "id": "G8IX4r7Dj-k1",
        "outputId": "86ecd532-862e-41d0-efc0-9a9d32f0e293"
      },
      "execution_count": null,
      "outputs": [
        {
          "output_type": "stream",
          "name": "stdout",
          "text": [
            "Invalid UUID\n"
          ]
        }
      ]
    },
    {
      "cell_type": "markdown",
      "source": [
        "### Identifier Class Proto 2\n",
        "\n",
        "Let's beef up the capabilities of the StixIdentifier class. It should support validating on the setters and also include a \"freeze\" mode where, when toggled on, all properties are incapability of being changed.\n",
        "\n",
        "We'll also move the set of supported ATT&CK identifier prefixes outside of the class to conserve memory:"
      ],
      "metadata": {
        "id": "Do-luL2GtUYL"
      }
    },
    {
      "cell_type": "code",
      "source": [
        "import attr\n",
        "import uuid\n",
        "import json\n",
        "import re\n",
        "\n",
        "RESERVED_IDENTIFIER_PREFIXES = {\n",
        "    \"attack-pattern\",\n",
        "    \"campaign\",\n",
        "    \"course-of-action\",\n",
        "    \"identity\",\n",
        "    \"intrusion-set\",\n",
        "    \"malware\",\n",
        "    \"marking-definition\",\n",
        "    \"note\",\n",
        "    \"relationship\",\n",
        "    \"tool\",\n",
        "    \"x-mitre-asset\",\n",
        "    \"x-mitre-collection\",\n",
        "    \"x-mitre-data-source\",\n",
        "    \"x-mitre-data-component\",\n",
        "    \"x-mitre-matrix\",\n",
        "    \"x-mitre-tactic\",\n",
        "}\n",
        "\n",
        "@define\n",
        "class StixIdentifier:\n",
        "    id: str = field()\n",
        "    _prefix: str = field(init=False)\n",
        "    _uuid: str = field(init=False)\n",
        "    frozen: bool = field(default=False, init=False)\n",
        "\n",
        "    def __attrs_post_init__(self):\n",
        "        stix_pattern = re.compile(\n",
        "            r'^[a-z][a-z0-9-]+[a-z0-9]--[0-9a-fA-F]{8}-[0-9a-fA-F]{4}-[1-5][0-9a-fA-F]{3}-[89abAB][0-9a-fA-F]{3}-[0-9a-fA-F]{12}$'\n",
        "        )\n",
        "        if not stix_pattern.match(self.id):\n",
        "            raise ValueError(\"ID does not match the required STIX 2.1 pattern\")\n",
        "\n",
        "        if \"--\" in self.id:\n",
        "            self._prefix, self._uuid = self.id.split(\"--\", 1)\n",
        "        else:\n",
        "            raise ValueError(\"Invalid id format. Expected format: ${prefix}--${uuid}\")\n",
        "\n",
        "        if self._prefix not in RESERVED_IDENTIFIER_PREFIXES:\n",
        "            raise ValueError(\n",
        "                f\"Invalid prefix: {self._prefix}. Must be one of {RESERVED_IDENTIFIER_PREFIXES}\"\n",
        "            )\n",
        "\n",
        "        try:\n",
        "            uuid.UUID(self._uuid, version=4)\n",
        "        except ValueError:\n",
        "            raise ValueError(f\"Invalid UUID: {self._uuid}\")\n",
        "\n",
        "    @property\n",
        "    def prefix(self):\n",
        "        return self._prefix\n",
        "\n",
        "    @prefix.setter\n",
        "    def prefix(self, value):\n",
        "        if self.frozen:\n",
        "            raise ValueError(\"Cannot modify prefix while object is frozen\")\n",
        "        if value not in RESERVED_IDENTIFIER_PREFIXES:\n",
        "            raise ValueError(\n",
        "                f\"Invalid prefix: {value}. Must be one of {RESERVED_IDENTIFIER_PREFIXES}\"\n",
        "            )\n",
        "        self._prefix = value\n",
        "        self.id = f\"{self._prefix}--{self._uuid}\"\n",
        "\n",
        "    @property\n",
        "    def uuid(self):\n",
        "        return self._uuid\n",
        "\n",
        "    @uuid.setter\n",
        "    def uuid(self, value):\n",
        "        if self.frozen:\n",
        "            raise ValueError(\"Cannot modify uuid while object is frozen\")\n",
        "        try:\n",
        "            uuid.UUID(value, version=4)\n",
        "        except ValueError:\n",
        "            raise ValueError(f\"Invalid UUID: {value}\")\n",
        "        self._uuid = value\n",
        "        self.id = f\"{self._prefix}--{self._uuid}\"\n",
        "\n",
        "    def freeze(self):\n",
        "        \"\"\"Freeze the object, preventing any further changes.\"\"\"\n",
        "        self.frozen = True\n",
        "\n",
        "    def unfreeze(self):\n",
        "        \"\"\"Unfreeze the object, allowing changes.\"\"\"\n",
        "        self.frozen = False\n",
        "\n",
        "    def to_json(self):\n",
        "        \"\"\"Return the ID as a JSON string.\"\"\"\n",
        "        return json.dumps(self.id, indent=4)"
      ],
      "metadata": {
        "id": "Iq-25JiMlOOF"
      },
      "execution_count": null,
      "outputs": []
    },
    {
      "cell_type": "code",
      "source": [
        "# Example usage\n",
        "try:\n",
        "    random_uuid_string = str(uuid.uuid4())\n",
        "    identifier = StixIdentifier(id=f\"attack-pattern--{random_uuid_string}\")\n",
        "    print(identifier.to_json())\n",
        "\n",
        "    # Modify properties while unfrozen\n",
        "    identifier.prefix = \"malware\"\n",
        "    identifier.uuid = str(uuid.uuid4())\n",
        "    print(identifier.to_json())\n",
        "\n",
        "    # Freeze the object\n",
        "    identifier.freeze()\n",
        "\n",
        "    # Attempting to modify properties should raise an error\n",
        "    try:\n",
        "        identifier.prefix = \"tool\"\n",
        "    except ValueError as e:\n",
        "        print(e)\n",
        "\n",
        "    # Unfreeze the object\n",
        "    identifier.unfreeze()\n",
        "\n",
        "    # Modifying properties after unfreezing\n",
        "    identifier.prefix = \"tool\"\n",
        "    identifier.uuid = str(uuid.uuid4())\n",
        "    print(identifier.to_json())\n",
        "\n",
        "except ValueError as e:\n",
        "    print(e)"
      ],
      "metadata": {
        "colab": {
          "base_uri": "https://localhost:8080/"
        },
        "id": "0zeal8MNpZz3",
        "outputId": "5f2149fe-3443-4f1d-9e26-a588bb50a28d"
      },
      "execution_count": null,
      "outputs": [
        {
          "output_type": "stream",
          "name": "stdout",
          "text": [
            "\"attack-pattern--1d28bec2-f2d3-4f4d-a420-b66d885459dd\"\n",
            "\"malware--85cf8dc8-bed5-4871-b97e-7f3818aef89a\"\n",
            "Cannot modify prefix while object is frozen\n",
            "\"tool--5c43c706-1839-454a-af68-292881654041\"\n"
          ]
        }
      ]
    },
    {
      "cell_type": "markdown",
      "source": [
        "### Pydantic Approach"
      ],
      "metadata": {
        "id": "Eb61vfGKygVL"
      }
    },
    {
      "cell_type": "code",
      "source": [
        "!pip install pydantic"
      ],
      "metadata": {
        "colab": {
          "base_uri": "https://localhost:8080/"
        },
        "id": "LD_z-zudrFWE",
        "outputId": "68f9ce41-07c8-4195-fd86-4912bfbe58b6"
      },
      "execution_count": null,
      "outputs": [
        {
          "output_type": "stream",
          "name": "stdout",
          "text": [
            "Requirement already satisfied: pydantic in /usr/local/lib/python3.10/dist-packages (2.7.3)\n",
            "Requirement already satisfied: annotated-types>=0.4.0 in /usr/local/lib/python3.10/dist-packages (from pydantic) (0.7.0)\n",
            "Requirement already satisfied: pydantic-core==2.18.4 in /usr/local/lib/python3.10/dist-packages (from pydantic) (2.18.4)\n",
            "Requirement already satisfied: typing-extensions>=4.6.1 in /usr/local/lib/python3.10/dist-packages (from pydantic) (4.12.1)\n"
          ]
        }
      ]
    },
    {
      "cell_type": "code",
      "source": [
        "from pydantic import BaseModel, validator, Field\n",
        "from pydantic.error_wrappers import ValidationError\n",
        "from uuid import UUID, uuid4\n",
        "from typing import Literal, Set\n",
        "\n",
        "# Set of reserved names\n",
        "reserved_names: Set[str] = {\n",
        "    \"attack-pattern\",\n",
        "    \"campaign\",\n",
        "    \"course-of-action\",\n",
        "    \"identity\",\n",
        "    \"intrusion-set\",\n",
        "    \"malware\",\n",
        "    \"marking-definition\",\n",
        "    \"note\",\n",
        "    \"relationship\",\n",
        "    \"tool\",\n",
        "    \"x-mitre-asset\",\n",
        "    \"x-mitre-collection\",\n",
        "    \"x-mitre-data-source\",\n",
        "    \"x-mitre-data-component\",\n",
        "    \"x-mitre-matrix\",\n",
        "    \"x-mitre-tactic\",\n",
        "}\n",
        "\n",
        "class ATTACKIdentifier(BaseModel):\n",
        "    uuid: UUID = Field(default_factory=uuid4)\n",
        "    prefix: Literal[\n",
        "        \"attack-pattern\",\n",
        "        \"campaign\",\n",
        "        \"course-of-action\",\n",
        "        \"identity\",\n",
        "        \"intrusion-set\",\n",
        "        \"malware\",\n",
        "        \"marking-definition\",\n",
        "        \"note\",\n",
        "        \"relationship\",\n",
        "        \"tool\",\n",
        "        \"x-mitre-asset\",\n",
        "        \"x-mitre-collection\",\n",
        "        \"x-mitre-data-source\",\n",
        "        \"x-mitre-data-component\",\n",
        "        \"x-mitre-matrix\",\n",
        "        \"x-mitre-tactic\",\n",
        "    ]\n",
        "    frozen: bool = False\n",
        "\n",
        "    @validator('uuid')\n",
        "    def uuid_must_be_v4(cls, value):\n",
        "        if value.version != 4:\n",
        "            raise ValueError('uuid must be a valid UUIDv4')\n",
        "        return value\n",
        "\n",
        "    def __init__(self, attack_id: str, **data):\n",
        "        prefix, uuid_str = attack_id.split('--')\n",
        "        if prefix not in reserved_names:\n",
        "            raise ValueError(f\"Invalid prefix: {prefix}\")\n",
        "        data['prefix'] = prefix\n",
        "        data['uuid'] = UUID(uuid_str)\n",
        "        super().__init__(**data)\n",
        "\n",
        "    def set_uuid(self, new_uuid: UUID):\n",
        "        if self.frozen:\n",
        "            raise AttributeError(\"Cannot modify uuid when frozen\")\n",
        "        if new_uuid.version != 4:\n",
        "            raise ValueError('uuid must be a valid UUIDv4')\n",
        "        self.uuid = new_uuid\n",
        "\n",
        "    def set_prefix(self, new_prefix: str):\n",
        "        if self.frozen:\n",
        "            raise AttributeError(\"Cannot modify prefix when frozen\")\n",
        "        if new_prefix not in reserved_names:\n",
        "            raise ValueError(f\"Invalid prefix: {new_prefix}\")\n",
        "        self.prefix = new_prefix\n",
        "\n",
        "    def freeze(self):\n",
        "        self.frozen = True\n",
        "\n",
        "    def unfreeze(self):\n",
        "        self.frozen = False"
      ],
      "metadata": {
        "colab": {
          "base_uri": "https://localhost:8080/"
        },
        "id": "Bi1rxBiypqlu",
        "outputId": "a97fffa0-d2da-4bd4-a79a-2b6b0498d6e2"
      },
      "execution_count": null,
      "outputs": [
        {
          "output_type": "stream",
          "name": "stderr",
          "text": [
            "/usr/local/lib/python3.10/dist-packages/pydantic/_migration.py:283: UserWarning: `pydantic.error_wrappers:ValidationError` has been moved to `pydantic:ValidationError`.\n",
            "  warnings.warn(f'`{import_path}` has been moved to `{new_location}`.')\n",
            "<ipython-input-12-6836061fbb5b>:48: PydanticDeprecatedSince20: Pydantic V1 style `@validator` validators are deprecated. You should migrate to Pydantic V2 style `@field_validator` validators, see the migration guide for more details. Deprecated in Pydantic V2.0 to be removed in V3.0. See Pydantic V2 Migration Guide at https://errors.pydantic.dev/2.7/migration/\n",
            "  @validator('uuid')\n"
          ]
        }
      ]
    },
    {
      "cell_type": "code",
      "source": [
        "# Example usage\n",
        "try:\n",
        "    attack_id = \"attack-pattern--d9fb73cc-158b-4ddd-b22b-da39014df0f7\"\n",
        "    attack_identifier = ATTACKIdentifier(attack_id=attack_id)\n",
        "    print(attack_identifier)\n",
        "\n",
        "    # Attempting to modify uuid and prefix\n",
        "    attack_identifier.set_uuid(uuid4())\n",
        "    attack_identifier.set_prefix(\"malware\")\n",
        "\n",
        "    # Freeze the object\n",
        "    attack_identifier.freeze()\n",
        "\n",
        "    # These will raise exceptions\n",
        "    # attack_identifier.set_uuid(uuid4())\n",
        "    # attack_identifier.set_prefix(\"tool\")\n",
        "\n",
        "except ValidationError as e:\n",
        "    print(e)\n",
        "\n",
        "except ValueError as e:\n",
        "    print(e)\n",
        "\n",
        "except AttributeError as e:\n",
        "    print(e)"
      ],
      "metadata": {
        "colab": {
          "base_uri": "https://localhost:8080/"
        },
        "id": "JNdlKPGRrMH2",
        "outputId": "bd751414-6bfe-4837-d424-916d0dbf6e65"
      },
      "execution_count": null,
      "outputs": [
        {
          "output_type": "stream",
          "name": "stdout",
          "text": [
            "uuid=UUID('d9fb73cc-158b-4ddd-b22b-da39014df0f7') prefix='attack-pattern' frozen=False\n"
          ]
        }
      ]
    },
    {
      "cell_type": "markdown",
      "source": [
        "### Interface\n",
        "\n",
        "Let's define an interface for this class:"
      ],
      "metadata": {
        "id": "ALa6JWhXtIlL"
      }
    },
    {
      "cell_type": "code",
      "source": [
        "class AbstractStixIdentifier(ABC):\n",
        "    @abstractmethod\n",
        "    def to_json(self) -> str:\n",
        "        pass\n",
        "\n",
        "    @abstractmethod\n",
        "    def freeze(self) -> None:\n",
        "        pass\n",
        "\n",
        "    @abstractmethod\n",
        "    def unfreeze(self) -> None:\n",
        "        pass\n",
        "\n",
        "    @abstractmethod\n",
        "    def prefix(self, value: str) -> None:\n",
        "        pass\n",
        "\n",
        "    @abstractmethod\n",
        "    def uuid(self, value: str) -> None:\n",
        "        pass\n",
        "\n",
        "    @abstractmethod\n",
        "    def test_not_implemented(self, value: str) -> None:\n",
        "        pass\n",
        "\n",
        "\n",
        "RESERVED_IDENTIFIER_PREFIXES = {\n",
        "    \"attack-pattern\",\n",
        "    \"campaign\",\n",
        "    \"course-of-action\",\n",
        "    \"identity\",\n",
        "    \"intrusion-set\",\n",
        "    \"malware\",\n",
        "    \"marking-definition\",\n",
        "    \"note\",\n",
        "    \"relationship\",\n",
        "    \"tool\",\n",
        "    \"x-mitre-asset\",\n",
        "    \"x-mitre-collection\",\n",
        "    \"x-mitre-data-source\",\n",
        "    \"x-mitre-data-component\",\n",
        "    \"x-mitre-matrix\",\n",
        "    \"x-mitre-tactic\",\n",
        "}\n",
        "\n",
        "\n",
        "@define\n",
        "class StixIdentifier(AbstractStixIdentifier):\n",
        "    id: str = attr.ib()\n",
        "    _prefix: str = attr.ib(init=False)\n",
        "    _uuid: str = attr.ib(init=False)\n",
        "    frozen: bool = attr.ib(default=False, init=False)\n",
        "\n",
        "    def __attrs_post_init__(self):\n",
        "        stix_pattern = re.compile(\n",
        "            r'^[a-z][a-z0-9-]+[a-z0-9]--[0-9a-fA-F]{8}-[0-9a-fA-F]{4}-[1-5][0-9a-fA-F]{3}-[89abAB][0-9a-fA-F]{3}-[0-9a-fA-F]{12}$'\n",
        "        )\n",
        "        if not stix_pattern.match(self.id):\n",
        "            raise ValueError(\"ID does not match the required STIX 2.1 pattern\")\n",
        "\n",
        "        if \"--\" in self.id:\n",
        "            self._prefix, self._uuid = self.id.split(\"--\", 1)\n",
        "        else:\n",
        "            raise ValueError(\"Invalid id format. Expected format: ${prefix}--${uuid}\")\n",
        "\n",
        "        if self._prefix not in RESERVED_IDENTIFIER_PREFIXES:\n",
        "            raise ValueError(\n",
        "                f\"Invalid prefix: {self._prefix}. Must be one of {RESERVED_IDENTIFIER_PREFIXES}\"\n",
        "            )\n",
        "\n",
        "        try:\n",
        "            uuid.UUID(self._uuid, version=4)\n",
        "        except ValueError:\n",
        "            raise ValueError(f\"Invalid UUID: {self._uuid}\")\n",
        "\n",
        "    @property\n",
        "    def prefix(self):\n",
        "        return self._prefix\n",
        "\n",
        "    @prefix.setter\n",
        "    def prefix(self, value):\n",
        "        if self.frozen:\n",
        "            raise ValueError(\"Cannot modify prefix while object is frozen\")\n",
        "        if value not in RESERVED_IDENTIFIER_PREFIXES:\n",
        "            raise ValueError(\n",
        "                f\"Invalid prefix: {value}. Must be one of {RESERVED_IDENTIFIER_PREFIXES}\"\n",
        "            )\n",
        "        self._prefix = value\n",
        "        self.id = f\"{self._prefix}--{self._uuid}\"\n",
        "\n",
        "    @property\n",
        "    def uuid(self):\n",
        "        return self._uuid\n",
        "\n",
        "    @uuid.setter\n",
        "    def uuid(self, value):\n",
        "        if self.frozen:\n",
        "            raise ValueError(\"Cannot modify uuid while object is frozen\")\n",
        "        try:\n",
        "            uuid.UUID(value, version=4)\n",
        "        except ValueError:\n",
        "            raise ValueError(f\"Invalid UUID: {value}\")\n",
        "        self._uuid = value\n",
        "        self.id = f\"{self._prefix}--{self._uuid}\"\n",
        "\n",
        "    def freeze(self):\n",
        "        \"\"\"Freeze the object, preventing any further changes.\"\"\"\n",
        "        self.frozen = True\n",
        "\n",
        "    def unfreeze(self):\n",
        "        \"\"\"Unfreeze the object, allowing changes.\"\"\"\n",
        "        self.frozen = False\n",
        "\n",
        "    def to_json(self):\n",
        "        \"\"\"Return the ID as a JSON string.\"\"\"\n",
        "        return json.dumps(self.id, indent=4)"
      ],
      "metadata": {
        "id": "MWGNS36Zty1I"
      },
      "execution_count": null,
      "outputs": []
    },
    {
      "cell_type": "code",
      "source": [
        "# Example usage\n",
        "try:\n",
        "    random_uuid_string = str(uuid.uuid4())\n",
        "\n",
        "    # Throws an exception\n",
        "    # identifier = StixIdentifier(id=f\"attack-pattern--{random_uuid_string}\")\n",
        "    # >> TypeError: Can't instantiate abstract class StixIdentifier with abstract method test_not_implemented\n",
        "\n",
        "except ValueError as e:\n",
        "    print(e)"
      ],
      "metadata": {
        "id": "2xHkWGULu1Yz"
      },
      "execution_count": null,
      "outputs": []
    },
    {
      "cell_type": "markdown",
      "source": [
        "### Identifier Class Proto 3\n",
        "\n",
        "Let's fix the interface so it actually works:"
      ],
      "metadata": {
        "id": "QNkXmheJvxWl"
      }
    },
    {
      "cell_type": "code",
      "source": [
        "class AbstractStixIdentifier(ABC):\n",
        "\n",
        "    @abstractmethod\n",
        "    def id(self, value: str) -> None:\n",
        "        pass\n",
        "\n",
        "    @abstractmethod\n",
        "    def prefix(self, value: str) -> None:\n",
        "        pass\n",
        "\n",
        "    @abstractmethod\n",
        "    def uuid(self, value: str) -> None:\n",
        "        pass\n",
        "\n",
        "    @abstractmethod\n",
        "    def to_json(self) -> str:\n",
        "        pass\n",
        "\n",
        "\n",
        "RESERVED_IDENTIFIER_PREFIXES = {\n",
        "    \"attack-pattern\",\n",
        "    \"campaign\",\n",
        "    \"course-of-action\",\n",
        "    \"identity\",\n",
        "    \"intrusion-set\",\n",
        "    \"malware\",\n",
        "    \"marking-definition\",\n",
        "    \"note\",\n",
        "    \"relationship\",\n",
        "    \"tool\",\n",
        "    \"x-mitre-asset\",\n",
        "    \"x-mitre-collection\",\n",
        "    \"x-mitre-data-source\",\n",
        "    \"x-mitre-data-component\",\n",
        "    \"x-mitre-matrix\",\n",
        "    \"x-mitre-tactic\",\n",
        "}\n",
        "\n",
        "\n",
        "@define\n",
        "class StixIdentifier:\n",
        "    id: str = field()\n",
        "    prefix: str = field(init=False)\n",
        "    uuid: str = field(init=False)\n",
        "\n",
        "    def __attrs_post_init__(self):\n",
        "        if \"--\" in self.id:\n",
        "            self.prefix, self.uuid = self.id.split(\"--\", 1)\n",
        "            self.uuid = self.uuid.strip()\n",
        "        else:\n",
        "            raise ValueError(\"Invalid id format. Expected format: ${prefix}--${uuid}\")\n",
        "\n",
        "    @id.validator\n",
        "    def _check_id(instance, attribute, value):\n",
        "        stix_pattern = re.compile(\n",
        "            r'^[a-z][a-z0-9-]+[a-z0-9]--[0-9a-fA-F]{8}-[0-9a-fA-F]{4}-[1-5][0-9a-fA-F]{3}-[89abAB][0-9a-fA-F]{3}-[0-9a-fA-F]{12}$'\n",
        "        )\n",
        "        if not stix_pattern.match(value):\n",
        "            raise ValueError(\"ID does not match the required STIX 2.1 pattern\")\n",
        "\n",
        "        instance.prefix, instance.uuid = value.split(\"--\", 1)\n",
        "        instance.uuid = instance.uuid.strip()\n",
        "\n",
        "    @prefix.validator\n",
        "    def _check_prefix(instance, attribute, value):\n",
        "        if value not in RESERVED_IDENTIFIER_PREFIXES:\n",
        "            raise ValueError(f\"Invalid prefix: {value}. Must be one of {RESERVED_IDENTIFIER_PREFIXES}\")\n",
        "\n",
        "    @uuid.validator\n",
        "    def _check_uuid(instance, attribute, value):\n",
        "        try:\n",
        "            uuid.UUID(value, version=4)\n",
        "        except ValueError:\n",
        "            raise ValueError(f\"Invalid UUID: {value}\")\n",
        "\n",
        "    def to_json(self) -> str:\n",
        "        \"\"\"Return the ID as a JSON string.\"\"\"\n",
        "        return json.dumps(self.id)"
      ],
      "metadata": {
        "id": "d7MNLiIzv4f0"
      },
      "execution_count": null,
      "outputs": []
    },
    {
      "cell_type": "code",
      "source": [
        "# Example usage\n",
        "try:\n",
        "    random_uuid_string = str(uuid.uuid4())\n",
        "    identifier = StixIdentifier(id=f\"attack-pattern--{random_uuid_string}\")\n",
        "    print('identifier before: ', identifier.to_json())\n",
        "\n",
        "    # immutable - the following will not work!\n",
        "    identifier.prefix = 'x-mitre-matrix'\n",
        "    identifier.uuid = str(uuid.uuid4())\n",
        "\n",
        "    print('identifier after: ', identifier.to_json())\n",
        "\n",
        "    print('as an object: ', identifier)\n",
        "\n",
        "except ValueError as e:\n",
        "    print(e)"
      ],
      "metadata": {
        "colab": {
          "base_uri": "https://localhost:8080/"
        },
        "id": "quZrvcDc0uaG",
        "outputId": "1b5e9cb4-58c1-4deb-c560-06b14c900322"
      },
      "execution_count": null,
      "outputs": [
        {
          "output_type": "stream",
          "name": "stdout",
          "text": [
            "identifier before:  \"attack-pattern--2b853cbe-9ad2-4443-b141-a02f593786a7\"\n",
            "identifier after:  \"attack-pattern--2b853cbe-9ad2-4443-b141-a02f593786a7\"\n",
            "as an object:  StixIdentifier(id='attack-pattern--2b853cbe-9ad2-4443-b141-a02f593786a7', prefix='x-mitre-matrix', uuid='39ae61f1-9323-4e35-a4df-a6bf5dcff510')\n"
          ]
        }
      ]
    },
    {
      "cell_type": "code",
      "source": [
        "@define\n",
        "class TestObject:\n",
        "  id: StixIdentifier = field()\n",
        "\n",
        "# Example usage\n",
        "try:\n",
        "    random_uuid_string = str(uuid.uuid4())\n",
        "    instance = TestObject(id=StixIdentifier(id=f\"attack-pattern--{random_uuid_string}\"))\n",
        "    print(cattrs.unstructure(instance))\n",
        "\n",
        "except ValueError as e:\n",
        "    print(e)"
      ],
      "metadata": {
        "colab": {
          "base_uri": "https://localhost:8080/"
        },
        "id": "-euShX63E_Bl",
        "outputId": "c3ec2d43-74b4-4a1b-be41-1f616a052747"
      },
      "execution_count": null,
      "outputs": [
        {
          "output_type": "stream",
          "name": "stdout",
          "text": [
            "{'id': {'id': 'attack-pattern--56c87593-5083-4eb0-9cd9-037c39c5cb37'}}\n"
          ]
        }
      ]
    },
    {
      "cell_type": "markdown",
      "source": [
        "We'll need to address how to appropriately serialize/deserialize our Python classes to other formats like JSON and YAML using `cattrs` later!"
      ],
      "metadata": {
        "id": "yTfcCINXGLf1"
      }
    },
    {
      "cell_type": "markdown",
      "source": [
        "# STIX Object Definition"
      ],
      "metadata": {
        "id": "w6Q3o9wVyZCa"
      }
    },
    {
      "cell_type": "markdown",
      "source": [
        "### Handling Lists\n",
        "\n",
        "We first need to define a `Converter` (from `cattrs`) to handle parsing/converting lists of objects to types:"
      ],
      "metadata": {
        "id": "vpdsO6tgfj34"
      }
    },
    {
      "cell_type": "code",
      "source": [
        "from collections.abc import Callable, Iterable\n",
        "from typing import Any, TypeAlias, TypeVar\n",
        "\n",
        "\n",
        "T = TypeVar(\"T\")\n",
        "ItemConv: TypeAlias = Callable[[Any], T]\n",
        "ListConv: TypeAlias = Callable[[Iterable[Any]], list[T]]\n",
        "\n",
        "\n",
        "def list_of(item_type: ItemConv[T]) -> ListConv[T]:\n",
        "    def converter(iterable: Iterable[Any]) -> list[T]:\n",
        "        if iterable is None:\n",
        "            return None\n",
        "        return [item if isinstance(item, item_type) else item_type(item) for item in iterable]\n",
        "    return converter"
      ],
      "metadata": {
        "id": "gwH0gVF1fc7O"
      },
      "execution_count": null,
      "outputs": []
    },
    {
      "cell_type": "markdown",
      "source": [
        "Next we can define the `StixObject` class. It has an `object_marking`refs` property which is a list of `StixIdentifier` objects.\n",
        "\n",
        "We want to use the `list_of` converter we just created to automate the serialization of each element in the `object_marking_refs` list:"
      ],
      "metadata": {
        "id": "qRB0bbnAfuSX"
      }
    },
    {
      "cell_type": "code",
      "source": [
        "@define\n",
        "class StixObject:\n",
        "  list_of_stix_ids: list[StixIdentifier] = field(converter=list_of(StixIdentifier))"
      ],
      "metadata": {
        "id": "kODe6vp8zcdf"
      },
      "execution_count": null,
      "outputs": []
    },
    {
      "cell_type": "code",
      "source": [
        "@define\n",
        "class StixObject():\n",
        "    object_marking_refs: list[StixIdentifier] = field(converter=list_of(StixIdentifier))\n",
        "\n",
        "    @object_marking_refs.validator\n",
        "    def object_marking_refs(self, attribute, value):\n",
        "        if not isinstance(value, list):\n",
        "            raise ValueError(\"object_marking_refs must be a list\")\n",
        "        if not all(isinstance(id, (str, StixIdentifier)) for id in value):\n",
        "            raise ValueError(\"All elements in object_marking_refs must be strings or StixIdentifier objects\")\n",
        "\n",
        "    def to_json(self) -> str:\n",
        "        \"\"\"Return the STIX object as a JSON string.\"\"\"\n",
        "        result = {\n",
        "            \"object_marking_refs\": [ref.id for ref in self.object_marking_refs] if self.object_marking_refs else None,\n",
        "        }\n",
        "        return json.dumps(result, indent=4)"
      ],
      "metadata": {
        "id": "eKX9_f7dyygd"
      },
      "execution_count": null,
      "outputs": []
    },
    {
      "cell_type": "markdown",
      "source": [
        "The following approach tries to initialize a `StixObject` instance using a list of `StixIdentifier` objects:"
      ],
      "metadata": {
        "id": "vBwSrqmyeV2F"
      }
    },
    {
      "cell_type": "code",
      "source": [
        "# Example usage\n",
        "try:\n",
        "    random_uuid_string = str(uuid.uuid4())\n",
        "    identifier = StixIdentifier(id=f\"attack-pattern--{random_uuid_string}\")\n",
        "\n",
        "    # Pre-create the StixIdentifiers\n",
        "    marking_ref_1 = StixIdentifier(id=f\"marking-definition--{str(uuid.uuid4())}\")\n",
        "    marking_ref_2 = StixIdentifier(id=f\"marking-definition--{str(uuid.uuid4())}\")\n",
        "\n",
        "    stix_object = StixObject(object_marking_refs=[marking_ref_1, marking_ref_2])\n",
        "    print(stix_object.to_json())\n",
        "\n",
        "except ValueError as e:\n",
        "    print(e)"
      ],
      "metadata": {
        "colab": {
          "base_uri": "https://localhost:8080/"
        },
        "id": "hx764FM_y0Ta",
        "outputId": "46be5bec-49dc-4cd0-e57f-ae548cebadb9"
      },
      "execution_count": null,
      "outputs": [
        {
          "output_type": "stream",
          "name": "stdout",
          "text": [
            "{\n",
            "    \"object_marking_refs\": [\n",
            "        \"marking-definition--22992383-65e7-43f9-aa00-6cf695199c6b\",\n",
            "        \"marking-definition--6309418d-5888-4ca1-8c99-250163df2585\"\n",
            "    ]\n",
            "}\n"
          ]
        }
      ]
    },
    {
      "cell_type": "markdown",
      "source": [
        "The next approach instead tries to initialize a `StixObject` instance using a list of identifier strings. The hope is that we can automatically serialize them too:"
      ],
      "metadata": {
        "id": "1wcmd3v-efGj"
      }
    },
    {
      "cell_type": "code",
      "source": [
        "# Example usage\n",
        "try:\n",
        "    random_uuid_string = str(uuid.uuid4())\n",
        "    identifier = StixIdentifier(id=f\"attack-pattern--{random_uuid_string}\")\n",
        "\n",
        "    # Just use raw strings for the identifiers\n",
        "    object_marking_refs = [\n",
        "        f\"marking-definition--{str(uuid.uuid4())}\",\n",
        "        f\"marking-definition--{str(uuid.uuid4())}\"\n",
        "    ]\n",
        "\n",
        "    stix_object = StixObject(object_marking_refs=object_marking_refs)\n",
        "    print(stix_object)\n",
        "    # print(stix_object.to_json())\n",
        "    # Throws:\n",
        "    #   AttributeError: 'str' object has no attribute 'id'\n",
        "\n",
        "except ValueError as e:\n",
        "    print(e)"
      ],
      "metadata": {
        "colab": {
          "base_uri": "https://localhost:8080/"
        },
        "outputId": "f5ded4fe-4e4b-4940-baea-7f777264b519",
        "id": "3-2ItSjEG2bp"
      },
      "execution_count": null,
      "outputs": [
        {
          "output_type": "stream",
          "name": "stdout",
          "text": [
            "StixObject(object_marking_refs=['marking-definition--e1c35c4f-9eb9-4364-9d4f-cc729f40cda9', 'marking-definition--4d3d2a4c-d7f7-4456-b185-9ad59513e854'])\n"
          ]
        }
      ]
    },
    {
      "cell_type": "markdown",
      "source": [
        "### Single Object Converter"
      ],
      "metadata": {
        "id": "-y-qbVSSgrHc"
      }
    },
    {
      "cell_type": "code",
      "source": [
        "def stix_id_converter(id):\n",
        "  if isinstance(id, str):\n",
        "    return StixIdentifier(id=id)\n",
        "  elif isinstance(id, StixIdentifier):\n",
        "    return id\n",
        "  else:\n",
        "    raise ValueError(\"Invalid ID type\")\n",
        "\n",
        "@define\n",
        "class Foo:\n",
        "    a: StixIdentifier = field(converter=stix_id_converter)\n",
        "\n",
        "f1 = Foo(a=\"attack-pattern--a5564927-0067-4bca-a12e-2252746a8063\")\n",
        "print(f1)\n",
        "print(f1.a)"
      ],
      "metadata": {
        "colab": {
          "base_uri": "https://localhost:8080/"
        },
        "id": "5e5uETPm1r6g",
        "outputId": "de360544-ffc0-4d5d-d471-9d28caa8343e"
      },
      "execution_count": null,
      "outputs": [
        {
          "output_type": "stream",
          "name": "stdout",
          "text": [
            "Foo(a=StixIdentifier(id='attack-pattern--a5564927-0067-4bca-a12e-2252746a8063', prefix='attack-pattern', uuid='a5564927-0067-4bca-a12e-2252746a8063'))\n",
            "StixIdentifier(id='attack-pattern--a5564927-0067-4bca-a12e-2252746a8063', prefix='attack-pattern', uuid='a5564927-0067-4bca-a12e-2252746a8063')\n"
          ]
        }
      ]
    },
    {
      "cell_type": "markdown",
      "source": [
        "### Deserializing to JSON: Dealing with Optional Properties"
      ],
      "metadata": {
        "id": "mpONVdEEgtMX"
      }
    },
    {
      "cell_type": "markdown",
      "source": [
        "I don't love this approach, but we can strip null/None properties from a class when we serialize it using manualy logic in the `to_json` method:"
      ],
      "metadata": {
        "id": "lTTbccKvgyoU"
      }
    },
    {
      "cell_type": "code",
      "source": [
        "from typing import Optional\n",
        "from attrs import asdict\n",
        "\n",
        "@define\n",
        "class C:\n",
        "  id: Optional[str] = None\n",
        "\n",
        "  def to_json(self) -> str:\n",
        "      return json.dumps({k: v for k, v in asdict(self).items() if v is not None})\n",
        "\n",
        "c = C()\n",
        "c.to_json()"
      ],
      "metadata": {
        "colab": {
          "base_uri": "https://localhost:8080/",
          "height": 36
        },
        "id": "ayVRJBB-Bt2a",
        "outputId": "829bd667-a9ee-4c31-da3e-5a0c881db6ac"
      },
      "execution_count": null,
      "outputs": [
        {
          "output_type": "execute_result",
          "data": {
            "text/plain": [
              "'{}'"
            ],
            "application/vnd.google.colaboratory.intrinsic+json": {
              "type": "string"
            }
          },
          "metadata": {},
          "execution_count": 24
        }
      ]
    },
    {
      "cell_type": "markdown",
      "source": [
        "Let's try using `cattrs` instead:"
      ],
      "metadata": {
        "id": "ZrO2CzXSlZVF"
      }
    },
    {
      "cell_type": "code",
      "source": [
        "from json import dumps\n",
        "from cattrs.preconf.json import make_converter"
      ],
      "metadata": {
        "id": "z-voMymRlEvE"
      },
      "execution_count": null,
      "outputs": []
    },
    {
      "cell_type": "code",
      "source": [
        "@define\n",
        "class StixObject():\n",
        "    id: StixIdentifier\n",
        "\n",
        "# Example usage\n",
        "stix_object = StixObject(id=StixIdentifier('attack-pattern--a5564927-0067-4bca-a12e-2252746a8063'))\n",
        "\n",
        "c = make_converter()\n",
        "dumps(c.unstructure(stix_object))"
      ],
      "metadata": {
        "colab": {
          "base_uri": "https://localhost:8080/",
          "height": 36
        },
        "id": "iHvrG-WjGSUJ",
        "outputId": "a7dbc862-47cc-46c3-d1c9-5c1145fca5c9"
      },
      "execution_count": null,
      "outputs": [
        {
          "output_type": "execute_result",
          "data": {
            "text/plain": [
              "'{\"id\": {\"id\": \"attack-pattern--a5564927-0067-4bca-a12e-2252746a8063\"}}'"
            ],
            "application/vnd.google.colaboratory.intrinsic+json": {
              "type": "string"
            }
          },
          "metadata": {},
          "execution_count": 26
        }
      ]
    },
    {
      "cell_type": "markdown",
      "source": [
        "That doesn't look quite right. Let's see if we can modify the unstructuring logic for `StixIdentifier` objects and automate that when parent classes are unstructured:"
      ],
      "metadata": {
        "id": "rP5HCUCctrPj"
      }
    },
    {
      "cell_type": "code",
      "source": [
        "# Create a custom converter\n",
        "def stix_identifier_converter(stix_id: StixIdentifier) -> str:\n",
        "    return stix_id.id\n",
        "\n",
        "c1 = make_converter()\n",
        "c1.register_unstructure_hook(StixIdentifier, stix_identifier_converter)\n",
        "dumps(c1.unstructure(stix_object))"
      ],
      "metadata": {
        "colab": {
          "base_uri": "https://localhost:8080/",
          "height": 36
        },
        "id": "B8Q5Nlj6GgQf",
        "outputId": "b554bfbe-8c9f-4958-bd25-1f72fd7dbdf3"
      },
      "execution_count": null,
      "outputs": [
        {
          "output_type": "execute_result",
          "data": {
            "text/plain": [
              "'{\"id\": \"attack-pattern--a5564927-0067-4bca-a12e-2252746a8063\"}'"
            ],
            "application/vnd.google.colaboratory.intrinsic+json": {
              "type": "string"
            }
          },
          "metadata": {},
          "execution_count": 27
        }
      ]
    },
    {
      "cell_type": "code",
      "source": [
        "import yaml\n",
        "\n",
        "\n",
        "@define\n",
        "class Child:\n",
        "    id: StixIdentifier\n",
        "\n",
        "    _converter = make_converter()\n",
        "    _converter.register_unstructure_hook(StixIdentifier, stix_identifier_converter)\n",
        "\n",
        "    def to_json(self):\n",
        "        return self._emit('json')\n",
        "\n",
        "    def to_yaml(self):\n",
        "        return self._emit('yaml')\n",
        "\n",
        "    def _emit(self, type: str = 'json'):\n",
        "        if type == 'json':\n",
        "            return self._converter.unstructure(self)\n",
        "        elif type == 'yaml':\n",
        "            return yaml.dump(self._converter.unstructure(self))\n",
        "        else:\n",
        "            raise ValueError(\"Invalid type\")\n",
        "\n",
        "\n",
        "@define\n",
        "class Parent:\n",
        "    foo: str\n",
        "    child: Child\n",
        "\n",
        "    def to_json(self):\n",
        "        return dumps({\n",
        "            'foo': self.foo,\n",
        "            'child': self.child.to_json()\n",
        "        })\n",
        "\n",
        "    def to_yaml(self):\n",
        "        return yaml.dump({\n",
        "            'foo': self.foo,\n",
        "            'child': self.child.to_yaml()\n",
        "        })\n",
        "\n",
        "# Example usage\n",
        "stix_identifier = StixIdentifier('attack-pattern--a5564927-0067-4bca-a12e-2252746a8063')\n",
        "child = Child(id=stix_identifier)\n",
        "parent = Parent(foo='bar', child=child)\n",
        "\n",
        "# Output JSON\n",
        "print(parent.to_json())"
      ],
      "metadata": {
        "colab": {
          "base_uri": "https://localhost:8080/"
        },
        "id": "plZ7dhiwunAv",
        "outputId": "ac7accfb-bf0a-4876-bcd1-7433c1610c39"
      },
      "execution_count": null,
      "outputs": [
        {
          "output_type": "stream",
          "name": "stdout",
          "text": [
            "{\"foo\": \"bar\", \"child\": {\"id\": \"attack-pattern--a5564927-0067-4bca-a12e-2252746a8063\"}}\n"
          ]
        }
      ]
    },
    {
      "cell_type": "markdown",
      "source": [
        "## Getting Serious"
      ],
      "metadata": {
        "id": "TWf56OSF-Ra3"
      }
    },
    {
      "cell_type": "markdown",
      "source": [
        "First define types for STIX `type` and `spec_version`. Validate them by pinning their `value` attributes to enums:"
      ],
      "metadata": {
        "id": "717VHzxB-af1"
      }
    },
    {
      "cell_type": "code",
      "source": [
        "from typing import Optional\n",
        "from enum import Enum\n",
        "\n",
        "\n",
        "# Define enums for STIX type and spec version\n",
        "class StixTypeEnum(str, Enum):\n",
        "    ATTACK_PATTERN = \"attack-pattern\"\n",
        "    CAMPAIGN = \"campaign\"\n",
        "    COURSE_OF_ACTION = \"course-of-action\"\n",
        "    IDENTITY = \"identity\"\n",
        "    INDICATOR = \"indicator\"\n",
        "    INTRUSION_SET = \"intrusion-set\"\n",
        "    MALWARE = \"malware\"\n",
        "    OBSERVED_DATA = \"observed-data\"\n",
        "    REPORT = \"report\"\n",
        "    THREAT_ACTOR = \"threat-actor\"\n",
        "    TOOL = \"tool\"\n",
        "    VULNERABILITY = \"vulnerability\"\n",
        "    MARKING_DEF = \"marking-definition\"\n",
        "\n",
        "\n",
        "class StixSpecVersionEnum(str, Enum):\n",
        "    V2_1 = \"2.1\"\n",
        "    V2_0 = \"2.0\"\n",
        "\n",
        "\n",
        "@define\n",
        "class StixType:\n",
        "    value: StixTypeEnum\n",
        "\n",
        "    def __str__(self):\n",
        "        return self.value.value\n",
        "\n",
        "@define\n",
        "class StixSpecVersion:\n",
        "    value: StixSpecVersionEnum\n",
        "\n",
        "    def __str__(self):\n",
        "        return self.value.value"
      ],
      "metadata": {
        "id": "2XZmTEXL-VpJ"
      },
      "execution_count": null,
      "outputs": []
    },
    {
      "cell_type": "markdown",
      "source": [
        "Next, we'll redefine STIX identifiers to be a little bit simpler:"
      ],
      "metadata": {
        "id": "R-nxQ6WJ-hH2"
      }
    },
    {
      "cell_type": "code",
      "source": [
        "# Define the regex pattern for STIX identifiers\n",
        "stix_pattern = re.compile(\n",
        "    r'^[a-z][a-z0-9-]+[a-z0-9]--[0-9a-fA-F]{8}-[0-9a-fA-F]{4}-[1-5][0-9a-fA-F]{3}-[89abAB][0-9a-fA-F]{3}-[0-9a-fA-F]{12}$'\n",
        ")\n",
        "\n",
        "def validate_stix_identifier(instance, attribute, value):\n",
        "    if not stix_pattern.match(value):\n",
        "        raise ValueError(f\"{value} is not a valid STIX identifier\")\n",
        "\n",
        "    _prefix, _uuid = value.split('--', 1)\n",
        "\n",
        "    if _prefix not in StixTypeEnum._value2member_map_:\n",
        "        raise ValueError(f\"{_prefix} is not a supported STIX identifier prefix\")\n",
        "\n",
        "    try:\n",
        "        uuid.UUID(_uuid, version=4)\n",
        "    except ValueError:\n",
        "        raise ValueError(f\"{_uuid} is not a valid UUID\")\n",
        "\n",
        "@define\n",
        "class StixIdentifier:\n",
        "    value: str = field(\n",
        "        validator=validate_stix_identifier,\n",
        "        metadata={'description': 'A valid STIX identifier'}\n",
        "    )\n",
        "    prefix: str = field(\n",
        "        init=False,\n",
        "        metadata={'description': 'The prefix of the STIX identifier'}\n",
        "    )\n",
        "    uuid: str = field(\n",
        "        init=False,\n",
        "        metadata={'description': 'The UUID of the STIX identifier'}\n",
        "    )\n",
        "\n",
        "    def __attrs_post_init__(self):\n",
        "        self.prefix, self.uuid = self.value.split('--', 1)\n",
        "\n",
        "    def __str__(self):\n",
        "        return self.value\n",
        "\n",
        "# Custom converter for StixIdentifier\n",
        "def stix_identifier_to_str(stix_identifier: StixIdentifier) -> str:\n",
        "    return stix_identifier.value\n",
        "\n",
        "\n",
        "def str_to_stix_identifier(value: str) -> StixIdentifier:\n",
        "    return StixIdentifier(value)"
      ],
      "metadata": {
        "id": "YbiRIme_u5t-"
      },
      "execution_count": null,
      "outputs": []
    },
    {
      "cell_type": "markdown",
      "source": [
        "Let's also initialize a custom converter that will handle de/serializing our objects:"
      ],
      "metadata": {
        "id": "C9huad1rR55W"
      }
    },
    {
      "cell_type": "code",
      "source": [
        "from cattrs import Converter\n",
        "\n",
        "attack_converter = Converter()\n",
        "\n",
        "# Register converters for the STIXIdentifier\n",
        "\n",
        "attack_converter.register_unstructure_hook(StixIdentifier, stix_identifier_to_str)\n",
        "attack_converter.register_structure_hook(\n",
        "    StixIdentifier, lambda d, _: str_to_stix_identifier(d)\n",
        ")"
      ],
      "metadata": {
        "id": "-Om96CopRgNB"
      },
      "execution_count": null,
      "outputs": []
    },
    {
      "cell_type": "markdown",
      "source": [
        "We also need a type for `created_by_ref` but this attribute is just a STIX identifier, which we've already defined.\n",
        "\n",
        "Let's try aliasing it:"
      ],
      "metadata": {
        "id": "R7_omv8L-2kl"
      }
    },
    {
      "cell_type": "code",
      "source": [
        "# Define StixCreatedByRef as a wrapper around StixIdentifier\n",
        "class StixCreatedByRef(StixIdentifier):\n",
        "    pass"
      ],
      "metadata": {
        "id": "0t0OdT3--zGi"
      },
      "execution_count": null,
      "outputs": []
    },
    {
      "cell_type": "markdown",
      "source": [
        "We also need to define a type annotation for STIX timestamps:"
      ],
      "metadata": {
        "id": "OxGo5_kC_owt"
      }
    },
    {
      "cell_type": "code",
      "source": [
        "# Define the regex pattern for STIX timestamps\n",
        "timestamp_pattern = re.compile(\n",
        "    r\"^[0-9]{4}-(0[1-9]|1[012])-(0[1-9]|[12][0-9]|3[01])T([01][0-9]|2[0-3]):([0-5][0-9]):([0-5][0-9]|60)(\\.[0-9]+)?Z$\"\n",
        ")\n",
        "\n",
        "def validate_stix_timestamp(instance, attribute, value):\n",
        "    if not timestamp_pattern.match(value):\n",
        "        raise ValueError(f\"{value} is not a valid STIX timestamp\")\n",
        "\n",
        "@define\n",
        "class StixTimestamp:\n",
        "    value: str = field(\n",
        "        validator=validate_stix_timestamp,\n",
        "        metadata={'description': 'A valid STIX timestamp in RFC3339 format with a Z timezone'}\n",
        "    )\n",
        "\n",
        "    def __str__(self):\n",
        "        return self.value"
      ],
      "metadata": {
        "id": "u5gkRlJJ_riH"
      },
      "execution_count": null,
      "outputs": []
    },
    {
      "cell_type": "markdown",
      "source": [
        "and a whole bunch of other types..."
      ],
      "metadata": {
        "id": "WOxw6ry9Hwro"
      }
    },
    {
      "cell_type": "markdown",
      "source": [
        "This is a naiive implementation of an external reference class."
      ],
      "metadata": {
        "id": "Y1ymX-2MkMxh"
      }
    },
    {
      "cell_type": "code",
      "source": [
        "@define\n",
        "class ExternalReference:\n",
        "    source_name: str\n",
        "    description: Optional[str] = None\n",
        "    url: Optional[str] = None\n",
        "    external_id: Optional[str] = None"
      ],
      "metadata": {
        "id": "ou-3h-gJkMTU"
      },
      "execution_count": null,
      "outputs": []
    },
    {
      "cell_type": "code",
      "source": [
        "er1 = external_ref = ExternalReference(\n",
        "    source_name=\"Example Source\",\n",
        "    description=\"An example description\",\n",
        "    url=\"http://example.com\",\n",
        "    external_id=\"EX123\"\n",
        ")\n",
        "\n",
        "# Convert class to JSON\n",
        "json1 = cattrs.unstructure(er1)\n",
        "print(json1)\n",
        "\n",
        "# Convert JSON to class\n",
        "cls = cattrs.structure({'source_name': 'Example Source',\n",
        " 'description': 'An example description',\n",
        " 'url': 'http://example.com ',\n",
        " 'external_id': 'EX123'}, ExternalReference)\n",
        "print(cls)"
      ],
      "metadata": {
        "colab": {
          "base_uri": "https://localhost:8080/"
        },
        "id": "Z7-FRpWF7cKi",
        "outputId": "7ee69ec5-6091-4947-ce23-144e87c7e6a8"
      },
      "execution_count": null,
      "outputs": [
        {
          "output_type": "stream",
          "name": "stdout",
          "text": [
            "{'source_name': 'Example Source', 'description': 'An example description', 'url': 'http://example.com', 'external_id': 'EX123'}\n",
            "ExternalReference(source_name='Example Source', description='An example description', url='http://example.com ', external_id='EX123')\n"
          ]
        }
      ]
    },
    {
      "cell_type": "markdown",
      "source": [
        "Let's demonstrate how we can unstructure one of these complex attrs classes recursively through a parent class:"
      ],
      "metadata": {
        "id": "ReAXLRugahUt"
      }
    },
    {
      "cell_type": "code",
      "source": [
        "@define\n",
        "class TestParent:\n",
        "  child: StixIdentifier\n",
        "\n",
        "tp1 = TestParent(StixIdentifier(f\"attack-pattern--{uuid.uuid4()}\"))\n",
        "\n",
        "# If you unstructure the tp instance using a generic converter, cattrs won't know how to handle the StixIdentifier:\n",
        "print(cattrs.unstructure(tp1))\n",
        "\n",
        "# But the attack_converter DOES know how to unstructure the StixIdentifier!\n",
        "print(attack_converter.unstructure(tp1))"
      ],
      "metadata": {
        "colab": {
          "base_uri": "https://localhost:8080/"
        },
        "id": "QjHLmzcf7_qq",
        "outputId": "a96bf6e0-50cb-4800-dab9-cda3bc8eddce"
      },
      "execution_count": null,
      "outputs": [
        {
          "output_type": "stream",
          "name": "stdout",
          "text": [
            "{'child': {'value': 'attack-pattern--0e79cfb1-e6d2-480e-bb96-9a057ec747d6'}}\n",
            "{'child': 'attack-pattern--0e79cfb1-e6d2-480e-bb96-9a057ec747d6'}\n"
          ]
        }
      ]
    },
    {
      "cell_type": "markdown",
      "source": [
        "This is great and all, but we'd like to be able to deserialize these objects using a handy object method like `emit` or `to_json`, right?"
      ],
      "metadata": {
        "id": "-nZ2DCk9bgwX"
      }
    },
    {
      "cell_type": "code",
      "source": [
        "@define\n",
        "class ExternalReference:\n",
        "    source_name: str\n",
        "    description: Optional[str] = None\n",
        "    url: Optional[str] = None\n",
        "    external_id: Optional[str] = None\n",
        "\n",
        "    _converter = field(attack_converter,)\n",
        "\n",
        "    def to_json(self):\n",
        "        return json.dumps(self._converter.unstructure(self))\n",
        "\n",
        "# Initialize the converter for ExternalReference class\n",
        "ExternalReference._initialize_converter()"
      ],
      "metadata": {
        "id": "Y1V8Ae_ckJMl"
      },
      "execution_count": null,
      "outputs": []
    },
    {
      "cell_type": "code",
      "source": [],
      "metadata": {
        "colab": {
          "base_uri": "https://localhost:8080/",
          "height": 184
        },
        "id": "5h_onG7uqqFI",
        "outputId": "7b571158-9b6e-4bcb-d323-2f5a337ffe1e"
      },
      "execution_count": null,
      "outputs": [
        {
          "output_type": "error",
          "ename": "AttributeError",
          "evalue": "'ExternalReference' object has no attribute 'to_json'",
          "traceback": [
            "\u001b[0;31m---------------------------------------------------------------------------\u001b[0m",
            "\u001b[0;31mAttributeError\u001b[0m                            Traceback (most recent call last)",
            "\u001b[0;32m<ipython-input-67-e43cb64736f4>\u001b[0m in \u001b[0;36m<cell line: 9>\u001b[0;34m()\u001b[0m\n\u001b[1;32m      7\u001b[0m )\n\u001b[1;32m      8\u001b[0m \u001b[0;34m\u001b[0m\u001b[0m\n\u001b[0;32m----> 9\u001b[0;31m \u001b[0mprint\u001b[0m\u001b[0;34m(\u001b[0m\u001b[0mexternal_ref\u001b[0m\u001b[0;34m.\u001b[0m\u001b[0mto_json\u001b[0m\u001b[0;34m(\u001b[0m\u001b[0;34m)\u001b[0m\u001b[0;34m)\u001b[0m\u001b[0;34m\u001b[0m\u001b[0;34m\u001b[0m\u001b[0m\n\u001b[0m",
            "\u001b[0;31mAttributeError\u001b[0m: 'ExternalReference' object has no attribute 'to_json'"
          ]
        }
      ]
    },
    {
      "cell_type": "code",
      "source": [
        "from typing import List\n",
        "\n",
        "def validate_confidence(instance, attribute, value):\n",
        "    if value is not None and not (0 < value < 100):\n",
        "        raise ValueError(f\"{value} is not a valid confidence level. Must be between 1 and 99 inclusive.\")\n",
        "\n",
        "@define\n",
        "class StixBoolean:\n",
        "    value: bool\n",
        "\n",
        "@define\n",
        "class GranularMarking:\n",
        "    marking_ref: StixIdentifier\n",
        "    selectors: List[str]\n",
        "\n",
        "    def to_json(self):\n",
        "      return {\n",
        "          \"marking_ref\": str(self.marking_ref),\n",
        "          \"selectors\": self.selectors\n",
        "      }\n",
        "\n",
        "@define\n",
        "class Extension:\n",
        "    pass  # Define fields as necessary"
      ],
      "metadata": {
        "id": "jjnxEfnrHkJp"
      },
      "execution_count": null,
      "outputs": []
    },
    {
      "cell_type": "markdown",
      "source": [
        "Now let's bring it all together in the `StixObject` class:"
      ],
      "metadata": {
        "id": "tNsDCdcE_HOE"
      }
    },
    {
      "cell_type": "code",
      "source": [
        "from typing import List, Dict, Union\n",
        "\n",
        "@define\n",
        "class StixObjectMixin:\n",
        "    id: StixIdentifier = field(\n",
        "        metadata={'description': 'The unique identifier for the STIX object'}\n",
        "    )\n",
        "    type: StixType = field(\n",
        "        metadata={'description': 'The type of the STIX object'}\n",
        "    )\n",
        "    spec_version: StixSpecVersion = field(\n",
        "        metadata={'description': 'The specification version of the STIX object'}\n",
        "    )\n",
        "    created: StixTimestamp = field(\n",
        "        metadata={'description': 'The created property represents the time at which the first version of this object was created'}\n",
        "    )\n",
        "    modified: StixTimestamp = field(\n",
        "        metadata={'description': 'The modified property represents the time that this particular version of the object was modified'}\n",
        "    )\n",
        "    created_by_ref: Optional[StixCreatedByRef] = field(\n",
        "        default=None,\n",
        "        metadata={'description': 'Reference to the creator of the STIX object'}\n",
        "    )\n",
        "    labels: Optional[List[str]] = field(\n",
        "        default=None,\n",
        "        metadata={'description': 'The labels property specifies a set of terms used to describe this object'}\n",
        "    )\n",
        "    revoked: Optional[StixBoolean] = field(\n",
        "        default=None,\n",
        "        metadata={'description': 'Indicates whether the object has been revoked'}\n",
        "    )\n",
        "    confidence: Optional[int] = field(\n",
        "        default=None,\n",
        "        validator=validate_confidence,\n",
        "        metadata={'description': 'Identifies the confidence that the creator has in the correctness of their data'}\n",
        "    )\n",
        "    lang: Optional[str] = field(\n",
        "        default=None,\n",
        "        metadata={'description': 'Identifies the language of the text content in this object'}\n",
        "    )\n",
        "    external_references: Optional[List[ExternalReference]] = field(\n",
        "        default=None,\n",
        "        metadata={'description': 'A list of external references which refers to non-STIX information'}\n",
        "    )\n",
        "    object_marking_refs: Optional[List[StixIdentifier]] = field(\n",
        "        default=None,\n",
        "        metadata={'description': 'The list of marking-definition objects to be applied to this object'}\n",
        "    )\n",
        "    granular_markings: Optional[List[GranularMarking]] = field(\n",
        "        default=None,\n",
        "        metadata={'description': 'The set of granular markings that apply to this object'}\n",
        "    )\n",
        "    extensions: Optional[Dict[str, Union[Extension, dict]]] = field(\n",
        "        default=None,\n",
        "        metadata={'description': 'Specifies any extensions of the object, as a dictionary'}\n",
        "    )\n",
        "\n",
        "    def to_json(self):\n",
        "        return {\n",
        "            \"id\": str(self.id),\n",
        "            \"type\": str(self.type),\n",
        "            \"spec_version\": str(self.spec_version),\n",
        "            \"created_by_ref\": str(self.created_by_ref) if self.created_by_ref else None,\n",
        "            \"labels\": self.labels,\n",
        "            \"created\": str(self.created),\n",
        "            \"modified\": str(self.modified),\n",
        "            \"revoked\": str(self.revoked.value) if self.revoked else None,\n",
        "            \"confidence\": self.confidence,\n",
        "            \"lang\": self.lang,\n",
        "            # \"external_references\": [er.__dict__ for er in self.external_references] if self.external_references else None,\n",
        "            \"external_references\": [er.to_json() for er in self.external_references] if self.external_references else None,\n",
        "            \"object_marking_refs\": [str(omr) for omr in self.object_marking_refs] if self.object_marking_refs else None,\n",
        "            \"granular_markings\": [gm.to_json() for gm in self.granular_markings] if self.granular_markings else None,\n",
        "            \"extensions\": {k: (v.__dict__ if isinstance(v, Extension) else v) for k, v in self.extensions.items()} if self.extensions else None\n",
        "        }"
      ],
      "metadata": {
        "id": "JGz7V9yJ_Fg3"
      },
      "execution_count": null,
      "outputs": []
    },
    {
      "cell_type": "code",
      "source": [
        "# Example usage\n",
        "stix_identifier = StixIdentifier(f\"attack-pattern--{uuid.uuid4()}\")\n",
        "stix_type = StixType(StixTypeEnum.ATTACK_PATTERN)\n",
        "stix_spec_version = StixSpecVersion(StixSpecVersionEnum.V2_1)\n",
        "stix_created_by_ref = StixCreatedByRef(f\"identity--{uuid.uuid4()}\")\n",
        "stix_timestamp = StixTimestamp(\"2023-05-06T12:34:56Z\")\n",
        "labels = [\"label1\", \"label2\"]\n",
        "external_references = [ExternalReference(source_name=\"example-source\")]\n",
        "object_marking_refs = [StixIdentifier(f\"marking-definition--{uuid.uuid4()}\")]\n",
        "granular_markings = [\n",
        "    GranularMarking(marking_ref=StixIdentifier(f\"marking-definition--{uuid.uuid4()}\"), selectors=[\"selector1\"])\n",
        "]\n",
        "\n",
        "stix_object = StixObjectMixin(\n",
        "    id=stix_identifier,\n",
        "    type=stix_type,\n",
        "    spec_version=stix_spec_version,\n",
        "    created_by_ref=stix_created_by_ref,\n",
        "    labels=labels,\n",
        "    created=stix_timestamp,\n",
        "    modified=stix_timestamp,\n",
        "    revoked=StixBoolean(True),\n",
        "    confidence=80,\n",
        "    lang=\"en\",\n",
        "    external_references=external_references,\n",
        "    object_marking_refs=object_marking_refs,\n",
        "    granular_markings=granular_markings,\n",
        "    extensions={\"extension-key\": {\"key\": \"value\"}}\n",
        ")"
      ],
      "metadata": {
        "id": "ar5Ag1pMIFIv"
      },
      "execution_count": null,
      "outputs": []
    },
    {
      "cell_type": "markdown",
      "source": [
        "# Attack Object Definition"
      ],
      "metadata": {
        "id": "Hx4lHP5IDNCa"
      }
    },
    {
      "cell_type": "markdown",
      "source": [
        "Now let's define the `AttackObject` class and use composition to bring in the `StixObject`:"
      ],
      "metadata": {
        "id": "9RaqvEXLDR0-"
      }
    },
    {
      "cell_type": "code",
      "source": [
        "@define\n",
        "class AttackObject:\n",
        "    _stix: StixObjectMixin = field(\n",
        "        metadata={'description': 'The STIX object associated with this attack'}\n",
        "    )\n",
        "    dummy_attribute: str = field(\n",
        "        default=\"dummy\",\n",
        "        metadata={'description': 'A dummy attribute for demonstration purposes'}\n",
        "    )\n",
        "\n",
        "    def __getattr__(self, name):\n",
        "        return getattr(self._stix, name)\n",
        "\n",
        "    def to_json(self):\n",
        "        data = self._stix.to_json()\n",
        "        data[\"dummy_attribute\"] = self.dummy_attribute\n",
        "        return data"
      ],
      "metadata": {
        "id": "Y23YKMsDDYST"
      },
      "execution_count": null,
      "outputs": []
    },
    {
      "cell_type": "code",
      "source": [
        "# Example usage\n",
        "stix_identifier = StixIdentifier(f\"attack-pattern--{uuid.uuid4()}\")\n",
        "stix_type = StixType(StixTypeEnum.ATTACK_PATTERN)\n",
        "stix_spec_version = StixSpecVersion(StixSpecVersionEnum.V2_1)\n",
        "stix_created_by_ref = StixCreatedByRef(f\"identity--{uuid.uuid4()}\")\n",
        "stix_timestamp = StixTimestamp(\"2023-05-06T12:34:56Z\")\n",
        "labels = [\"label1\", \"label2\"]\n",
        "\n",
        "stix = StixObjectMixin(\n",
        "    id=stix_identifier,\n",
        "    type=stix_type,\n",
        "    spec_version=stix_spec_version,\n",
        "    created_by_ref=stix_created_by_ref,\n",
        "    labels=labels,\n",
        "    created=stix_timestamp,\n",
        "    modified=stix_timestamp,\n",
        "    revoked=StixBoolean(True),\n",
        "    confidence=80,\n",
        "    lang=\"en\",\n",
        "    external_references=external_references,\n",
        "    object_marking_refs=object_marking_refs,\n",
        "    granular_markings=granular_markings,\n",
        "    extensions={\"extension-key\": {\"key\": \"value\"}}\n",
        ")\n",
        "\n",
        "attack_object = AttackObject(stix)\n",
        "\n",
        "print(attack_object.to_json())\n",
        "print(attack_object.id)  # Accessing StixObject attribute directly"
      ],
      "metadata": {
        "colab": {
          "base_uri": "https://localhost:8080/"
        },
        "id": "-DSH6M4GDiCS",
        "outputId": "1abb9582-adc1-43c5-ef4d-e5134f12648b"
      },
      "execution_count": null,
      "outputs": [
        {
          "output_type": "stream",
          "name": "stdout",
          "text": [
            "{'id': 'attack-pattern--ffe39fb5-e8a4-4ac0-816c-bd6c8a17d1d0', 'type': 'attack-pattern', 'spec_version': '2.1', 'created_by_ref': 'identity--dbd810fa-cefa-468c-9a62-3ec8f2525094', 'labels': ['label1', 'label2'], 'created': '2023-05-06T12:34:56Z', 'modified': '2023-05-06T12:34:56Z', 'revoked': 'True', 'confidence': 80, 'lang': 'en', 'external_references': [{'source_name': 'example-source'}], 'object_marking_refs': ['marking-definition--4d6633ad-0d92-4dde-95d4-173b4aa35099'], 'granular_markings': [{'marking_ref': 'marking-definition--e83cabab-39f8-4a5d-9fda-80a4f782ebc5', 'selectors': ['selector1']}], 'extensions': {'extension-key': {'key': 'value'}}, 'dummy_attribute': 'dummy'}\n",
            "attack-pattern--ffe39fb5-e8a4-4ac0-816c-bd6c8a17d1d0\n"
          ]
        }
      ]
    },
    {
      "cell_type": "markdown",
      "source": [
        "Try accessing `id` through `attack_object` even though it's technically defined in `stix_object`:"
      ],
      "metadata": {
        "id": "ZKcIxZkuEYkl"
      }
    },
    {
      "cell_type": "code",
      "source": [
        "print(attack_object.id)\n",
        "print(attack_object._stix.id)"
      ],
      "metadata": {
        "colab": {
          "base_uri": "https://localhost:8080/"
        },
        "id": "ZjstBj47Dvgd",
        "outputId": "b849b406-5804-4460-ee10-8654ad379b5d"
      },
      "execution_count": null,
      "outputs": [
        {
          "output_type": "stream",
          "name": "stdout",
          "text": [
            "attack-pattern--6de6debf-3d1a-4c8d-b58c-6efbf166103d\n",
            "attack-pattern--6de6debf-3d1a-4c8d-b58c-6efbf166103d\n"
          ]
        }
      ]
    },
    {
      "cell_type": "code",
      "source": [
        "attack_object.to_json()"
      ],
      "metadata": {
        "colab": {
          "base_uri": "https://localhost:8080/"
        },
        "id": "Mu3Og9qREdyw",
        "outputId": "cdac767c-78d9-4bc2-bbfa-dbe31657d843"
      },
      "execution_count": null,
      "outputs": [
        {
          "output_type": "execute_result",
          "data": {
            "text/plain": [
              "{'id': 'attack-pattern--6de6debf-3d1a-4c8d-b58c-6efbf166103d',\n",
              " 'type': 'attack-pattern',\n",
              " 'spec_version': '2.1',\n",
              " 'created_by_ref': 'identity--41cba2ba-efbb-4846-8cb3-8278eb70d07f',\n",
              " 'labels': ['label1', 'label2'],\n",
              " 'created': '2023-05-06T12:34:56Z',\n",
              " 'dummy_attribute': 'dummy'}"
            ]
          },
          "metadata": {},
          "execution_count": 76
        }
      ]
    }
  ]
}